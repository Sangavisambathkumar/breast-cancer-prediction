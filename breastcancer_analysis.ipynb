pip install scikit-learn
pip install pandas
from sklearn.datasets import load_breast_cancer
import pandas as pd

# Load dataset
data = load_breast_cancer()
df = pd.DataFrame(data.data, columns=data.feature_names)
df['target'] = data.target

# Save dataset to CSV for reuse
df.to_csv('breast_cancer_data.csv', index=False)
print(df.head())
from sklearn.preprocessing import StandardScaler

# Features and target
X = df.drop('target', axis=1)
y = df['target']

# Standardize features
scaler = StandardScaler()
X_scaled = scaler.fit_transform(X)
from sklearn.feature_selection import SelectKBest, f_classif

# Select top 10 features
selector = SelectKBest(score_func=f_classif, k=10)
X_selected = selector.fit_transform(X_scaled, y)

# Display selected feature names
selected_features = X.columns[selector.get_support()]
print("Selected Features:", selected_features)
from sklearn.neural_network import MLPClassifier
from sklearn.model_selection import GridSearchCV

# ANN model with grid search
param_grid = {
    'hidden_layer_sizes': [(50,), (100,), (50, 50)],
    'activation': ['relu', 'tanh'],
    'solver': ['adam', 'sgd'],
    'learning_rate': ['constant', 'adaptive']
}
grid_search = GridSearchCV(MLPClassifier(max_iter=200), param_grid, cv=3, scoring='accuracy')
grid_search.fit(X_selected, y)

# Best parameters
print("Best Parameters:", grid_search.best_params_)
from sklearn.metrics import accuracy_score, classification_report

# Train ANN with best parameters
best_model = grid_search.best_estimator_
best_model.fit(X_selected, y)

# Predictions
y_pred = best_model.predict(X_selected)
print("Accuracy:", accuracy_score(y, y_pred))
print(classification_report(y, y_pred))
